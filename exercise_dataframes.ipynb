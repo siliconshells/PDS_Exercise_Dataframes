{
 "cells": [
  {
   "cell_type": "markdown",
   "metadata": {},
   "source": [
    "# Estimating Labor Market Returns to Education\n",
    "\n",
    "In this exercise, we're going to use data from the [American Communities Survey (ACS)](https://usa.ipums.org/usa/acs.shtml) to study the relationship betwen educational attainment and wages. The ACS is a survey conducted by the United States Census Bureau (though it is not \"The Census,\" which is a counting of every person in the United States that takes place every 10 years) to measure numerous features of the US population. The data we will be working with includes about 100 variables from the 2017 ACS survey, and is a 10% sample of the ACS (which itself is a 1% sample of the US population, so we're working with about a 0.1% sample of the United States). \n",
    "\n",
    "This data comes from [IPUMS](https://usa.ipums.org/usa/), which provides a very useful tool for getting subsets of major survey datasets, not just from the US, but [from government statistical agencies the world over](https://international.ipums.org/international-action/sample_details).\n",
    "\n",
    "This is *real* data, meaning that you are being provided the data as it is provided by IPUMS. Documentation for all variables used in this data can be found [here](https://usa.ipums.org/usa-action/variables/group) (you can either search by variable name to figure out the meaning of a variable in this data, or search for something you want to see if a variable with the right name is in this data). \n",
    "\n",
    "Within this data is information on both the educational background and current earnings of a representative sample of Americans. We will now use this data to estimate the labor-market returns to graduating high school and college, and to learn something about the meaning of an educational degree. "
   ]
  },
  {
   "cell_type": "markdown",
   "metadata": {},
   "source": [
    "## Gradescope Autograding\n",
    "\n",
    "Please follow [all standard guidance](https://www.practicaldatascience.org/ids720_specific/autograder_guidelines.html) for submitting this assignment to the Gradescope autograder, including storing your solutions in a dictionary called `results` and ensuring your notebook runs from the start to completion without any errors.\n",
    "\n",
    "For this assignment, please name your file `exercise_dataframes.ipynb` before uploading.\n",
    "\n",
    "You can check that you have answers for all questions in your `results` dictionary with this code:\n",
    "\n",
    "```python\n",
    "assert set(results.keys()) == {\n",
    "    \"ex2_num_obs\",\n",
    "    \"ex3_num_vars\",\n",
    "    \"ex8_updated_num_obs\",\n",
    "    \"ex9_updated_num_obs\",\n",
    "    \"ex11_grade12_income\",\n",
    "    \"ex12_college_income\",\n",
    "    \"ex12_college_income_pct\",\n",
    "    \"ex14_high_school_dropout\",\n",
    "    \"ex15_grade_9\",\n",
    "    \"ex15_grade_10\",\n",
    "    \"ex15_grade_11\",\n",
    "    \"ex15_grade_12\",\n",
    "    \"ex15_4_years_of_college\",\n",
    "    \"ex15_graduate\",\n",
    "}\n",
    "```\n",
    "\n",
    "### Submission Limits\n",
    "\n",
    "Please remember that you are **only allowed three submissions to the autograder.** Your last submission (if you submit 3 or fewer times), or your third submission (if you submit more than 3 times) will determine your grade Submissions that error out will **not** count against this total.\n"
   ]
  },
  {
   "cell_type": "markdown",
   "metadata": {},
   "source": [
    "## Exercises"
   ]
  },
  {
   "cell_type": "markdown",
   "metadata": {},
   "source": [
    "### Exercise 1\n",
    "\n",
    "Data for these [exercises can be found here](https://github.com/nickeubank/MIDS_Data/tree/master/US_AmericanCommunitySurvey). \n",
    "\n",
    "Import `US_ACS_2017_10pct_sample.dta` into a pandas DataFrame (read it directly from a URL to help the autograder, please). \n",
    "\n",
    "This can be done with the command `pd.read_stata`, which will read in files created in the program Stata (and which uses the file suffix `.dta`). This is a format commonly used by social scientists."
   ]
  },
  {
   "cell_type": "code",
   "execution_count": 1,
   "metadata": {},
   "outputs": [],
   "source": [
    "import pandas as pd\n",
    "\n",
    "results = {}\n",
    "\n",
    "acs_data = pd.read_stata(\n",
    "    \"https://github.com/nickeubank/MIDS_Data/raw/refs/heads/master/US_AmericanCommunitySurvey/US_ACS_2017_10pct_sample.dta\"\n",
    ")"
   ]
  },
  {
   "cell_type": "markdown",
   "metadata": {},
   "source": [
    "## Getting to Know Your Data\n",
    "\n",
    "When you get a new dataset like this, it's good to start by trying to get a feel for its contents and organization. Toy datasets you sometimes get in classes are often very small, and easy to look at, but this is a pretty large dataset, so you can't just open it up and get a good sense of it. Here are some ways to get to know your data. "
   ]
  },
  {
   "cell_type": "markdown",
   "metadata": {},
   "source": [
    "### Exercise 2\n",
    "\n",
    "How many observations are in your data? Store the answer in your `results` dictionary with the key `\"ex2_num_obs\"`."
   ]
  },
  {
   "cell_type": "code",
   "execution_count": 2,
   "metadata": {},
   "outputs": [
    {
     "name": "stdout",
     "output_type": "stream",
     "text": [
      "The number of observations in the data is 319,004\n"
     ]
    }
   ],
   "source": [
    "ex2_num_obs = len(acs_data)\n",
    "results[\"ex2_num_obs\"] = ex2_num_obs\n",
    "print(f\"The number of observations in the data is {ex2_num_obs:,}\")"
   ]
  },
  {
   "cell_type": "markdown",
   "metadata": {},
   "source": [
    "### Exercise 3\n",
    "\n",
    "How many variables are in your data? Store the answer in your `results` dictionary with the key `\"ex3_num_vars\"`."
   ]
  },
  {
   "cell_type": "code",
   "execution_count": 3,
   "metadata": {},
   "outputs": [
    {
     "name": "stdout",
     "output_type": "stream",
     "text": [
      "The number of variables in the data is 104\n"
     ]
    }
   ],
   "source": [
    "ex3_num_vars = len(acs_data.columns)\n",
    "results[\"ex3_num_vars\"] = ex3_num_vars\n",
    "print(f\"The number of variables in the data is {ex3_num_vars}\")"
   ]
  },
  {
   "cell_type": "markdown",
   "metadata": {},
   "source": [
    "### Exercise 4\n",
    "\n",
    " Let's see what variables are in this dataset. First, try to see them all using the command:\n",
    "\n",
    "\n",
    "```python\n",
    "acs.columns\n",
    "```"
   ]
  },
  {
   "cell_type": "code",
   "execution_count": 4,
   "metadata": {},
   "outputs": [
    {
     "data": {
      "text/plain": [
       "Index(['year', 'datanum', 'serial', 'cbserial', 'numprec', 'subsamp', 'hhwt',\n",
       "       'hhtype', 'cluster', 'adjust',\n",
       "       ...\n",
       "       'migcounty1', 'migmet131', 'vetdisab', 'diffrem', 'diffphys', 'diffmob',\n",
       "       'diffcare', 'diffsens', 'diffeye', 'diffhear'],\n",
       "      dtype='object', length=104)"
      ]
     },
     "execution_count": 4,
     "metadata": {},
     "output_type": "execute_result"
    }
   ],
   "source": [
    "acs_data.columns"
   ]
  },
  {
   "cell_type": "markdown",
   "metadata": {},
   "source": [
    "As you will see, `python` doesn't like to print out all the different variables when there are this many in a dataset. \n",
    "\n",
    "To get everything printed out, we can loop over all the columns and print them one at a time with the command:\n",
    "\n",
    "```\n",
    "for c in acs.columns: print(c)\n",
    "```\n",
    "\n",
    "It's definitely a bit of a hack, but honestly a pretty useful one!"
   ]
  },
  {
   "cell_type": "code",
   "execution_count": 5,
   "metadata": {},
   "outputs": [
    {
     "name": "stdout",
     "output_type": "stream",
     "text": [
      "year, datanum, serial, cbserial, numprec, subsamp, hhwt, hhtype, cluster, adjust, cpi99, region, stateicp, statefip, countyicp, countyfip, metro, city, citypop, strata, gq, farm, ownershp, ownershpd, mortgage, mortgag2, mortamt1, mortamt2, respmode, pernum, cbpernum, perwt, slwt, famunit, sex, age, marst, birthyr, race, raced, hispan, hispand, bpl, bpld, citizen, yrnatur, yrimmig, language, languaged, speakeng, hcovany, hcovpriv, hinsemp, hinspur, hinstri, hcovpub, hinscaid, hinscare, hinsva, hinsihs, school, educ, educd, gradeatt, gradeattd, schltype, degfield, degfieldd, degfield2, degfield2d, empstat, empstatd, labforce, occ, ind, classwkr, classwkrd, looking, availble, inctot, ftotinc, incwage, incbus00, incss, incwelfr, incinvst, incretir, incsupp, incother, incearn, poverty, migrate1, migrate1d, migplac1, migcounty1, migmet131, vetdisab, diffrem, diffphys, diffmob, diffcare, diffsens, diffeye, diffhear, "
     ]
    }
   ],
   "source": [
    "for c in acs_data.columns:\n",
    "    print(c, end=\", \")"
   ]
  },
  {
   "cell_type": "markdown",
   "metadata": {},
   "source": [
    "### Exercise 5\n",
    "\n",
    "That's a *lot* of variables, and definitely more than we need. In general, life is easier when working with these kinds of huge datasets if you can narrow down the number of variables a little. In this exercise, we will be looking at the relationship between education and wages, we need variables for: \n",
    "\n",
    "- Age\n",
    "- Income\n",
    "- Education\n",
    "- Employment status (is the person actually working)\n",
    "\n",
    "These quantities of interest correspond to the following variables in our data: `age`, `inctot`, `educ`, and `empstat`. \n",
    "\n",
    "Subset your data to just those variables. "
   ]
  },
  {
   "cell_type": "code",
   "execution_count": 6,
   "metadata": {},
   "outputs": [
    {
     "data": {
      "text/html": [
       "<div>\n",
       "<style scoped>\n",
       "    .dataframe tbody tr th:only-of-type {\n",
       "        vertical-align: middle;\n",
       "    }\n",
       "\n",
       "    .dataframe tbody tr th {\n",
       "        vertical-align: top;\n",
       "    }\n",
       "\n",
       "    .dataframe thead th {\n",
       "        text-align: right;\n",
       "    }\n",
       "</style>\n",
       "<table border=\"1\" class=\"dataframe\">\n",
       "  <thead>\n",
       "    <tr style=\"text-align: right;\">\n",
       "      <th></th>\n",
       "      <th>age</th>\n",
       "      <th>inctot</th>\n",
       "      <th>educ</th>\n",
       "      <th>empstat</th>\n",
       "    </tr>\n",
       "  </thead>\n",
       "  <tbody>\n",
       "    <tr>\n",
       "      <th>0</th>\n",
       "      <td>4</td>\n",
       "      <td>9999999</td>\n",
       "      <td>nursery school to grade 4</td>\n",
       "      <td>n/a</td>\n",
       "    </tr>\n",
       "    <tr>\n",
       "      <th>1</th>\n",
       "      <td>17</td>\n",
       "      <td>6000</td>\n",
       "      <td>grade 11</td>\n",
       "      <td>employed</td>\n",
       "    </tr>\n",
       "    <tr>\n",
       "      <th>2</th>\n",
       "      <td>63</td>\n",
       "      <td>6150</td>\n",
       "      <td>4 years of college</td>\n",
       "      <td>employed</td>\n",
       "    </tr>\n",
       "    <tr>\n",
       "      <th>3</th>\n",
       "      <td>66</td>\n",
       "      <td>14000</td>\n",
       "      <td>grade 12</td>\n",
       "      <td>not in labor force</td>\n",
       "    </tr>\n",
       "    <tr>\n",
       "      <th>4</th>\n",
       "      <td>1</td>\n",
       "      <td>9999999</td>\n",
       "      <td>n/a or no schooling</td>\n",
       "      <td>n/a</td>\n",
       "    </tr>\n",
       "    <tr>\n",
       "      <th>...</th>\n",
       "      <td>...</td>\n",
       "      <td>...</td>\n",
       "      <td>...</td>\n",
       "      <td>...</td>\n",
       "    </tr>\n",
       "    <tr>\n",
       "      <th>318999</th>\n",
       "      <td>33</td>\n",
       "      <td>22130</td>\n",
       "      <td>4 years of college</td>\n",
       "      <td>employed</td>\n",
       "    </tr>\n",
       "    <tr>\n",
       "      <th>319000</th>\n",
       "      <td>4</td>\n",
       "      <td>9999999</td>\n",
       "      <td>nursery school to grade 4</td>\n",
       "      <td>n/a</td>\n",
       "    </tr>\n",
       "    <tr>\n",
       "      <th>319001</th>\n",
       "      <td>20</td>\n",
       "      <td>5000</td>\n",
       "      <td>grade 12</td>\n",
       "      <td>employed</td>\n",
       "    </tr>\n",
       "    <tr>\n",
       "      <th>319002</th>\n",
       "      <td>47</td>\n",
       "      <td>240000</td>\n",
       "      <td>5+ years of college</td>\n",
       "      <td>employed</td>\n",
       "    </tr>\n",
       "    <tr>\n",
       "      <th>319003</th>\n",
       "      <td>33</td>\n",
       "      <td>48000</td>\n",
       "      <td>5+ years of college</td>\n",
       "      <td>employed</td>\n",
       "    </tr>\n",
       "  </tbody>\n",
       "</table>\n",
       "<p>319004 rows × 4 columns</p>\n",
       "</div>"
      ],
      "text/plain": [
       "       age   inctot                       educ             empstat\n",
       "0        4  9999999  nursery school to grade 4                 n/a\n",
       "1       17     6000                   grade 11            employed\n",
       "2       63     6150         4 years of college            employed\n",
       "3       66    14000                   grade 12  not in labor force\n",
       "4        1  9999999        n/a or no schooling                 n/a\n",
       "...     ..      ...                        ...                 ...\n",
       "318999  33    22130         4 years of college            employed\n",
       "319000   4  9999999  nursery school to grade 4                 n/a\n",
       "319001  20     5000                   grade 12            employed\n",
       "319002  47   240000        5+ years of college            employed\n",
       "319003  33    48000        5+ years of college            employed\n",
       "\n",
       "[319004 rows x 4 columns]"
      ]
     },
     "execution_count": 6,
     "metadata": {},
     "output_type": "execute_result"
    }
   ],
   "source": [
    "acs_data_sub = acs_data[[\"age\", \"inctot\", \"educ\", \"empstat\"]]\n",
    "acs_data_sub"
   ]
  },
  {
   "cell_type": "markdown",
   "metadata": {},
   "source": [
    "### Exercise 6 \n",
    "\n",
    "Now that we have a more manageable number of variables, it's often very useful to look at a handful of rows of your data. The easiest way to do this is probably the `.head()` method (which will show you the first five rows), or the `tail()` method, which will show you the last five rows. \n",
    "\n",
    "But to get a good sense of your data, it's often better to use the `sample()` command, which returns a random set of rows. As the first and last rows are sometimes not representative, a random set of rows can be very helpful. Try looking at a random sample of 20 rows (note: you don't have to run `.sample()` ten times to get ten rows. Look at the `.sample` help file if you're stuck. "
   ]
  },
  {
   "cell_type": "code",
   "execution_count": 7,
   "metadata": {},
   "outputs": [
    {
     "data": {
      "text/html": [
       "<div>\n",
       "<style scoped>\n",
       "    .dataframe tbody tr th:only-of-type {\n",
       "        vertical-align: middle;\n",
       "    }\n",
       "\n",
       "    .dataframe tbody tr th {\n",
       "        vertical-align: top;\n",
       "    }\n",
       "\n",
       "    .dataframe thead th {\n",
       "        text-align: right;\n",
       "    }\n",
       "</style>\n",
       "<table border=\"1\" class=\"dataframe\">\n",
       "  <thead>\n",
       "    <tr style=\"text-align: right;\">\n",
       "      <th></th>\n",
       "      <th>age</th>\n",
       "      <th>inctot</th>\n",
       "      <th>educ</th>\n",
       "      <th>empstat</th>\n",
       "    </tr>\n",
       "  </thead>\n",
       "  <tbody>\n",
       "    <tr>\n",
       "      <th>115323</th>\n",
       "      <td>57</td>\n",
       "      <td>12000</td>\n",
       "      <td>grade 12</td>\n",
       "      <td>employed</td>\n",
       "    </tr>\n",
       "    <tr>\n",
       "      <th>282217</th>\n",
       "      <td>48</td>\n",
       "      <td>9500</td>\n",
       "      <td>grade 12</td>\n",
       "      <td>unemployed</td>\n",
       "    </tr>\n",
       "    <tr>\n",
       "      <th>64923</th>\n",
       "      <td>44</td>\n",
       "      <td>86000</td>\n",
       "      <td>4 years of college</td>\n",
       "      <td>employed</td>\n",
       "    </tr>\n",
       "    <tr>\n",
       "      <th>15175</th>\n",
       "      <td>8</td>\n",
       "      <td>9999999</td>\n",
       "      <td>nursery school to grade 4</td>\n",
       "      <td>n/a</td>\n",
       "    </tr>\n",
       "    <tr>\n",
       "      <th>275216</th>\n",
       "      <td>93</td>\n",
       "      <td>44840</td>\n",
       "      <td>grade 12</td>\n",
       "      <td>not in labor force</td>\n",
       "    </tr>\n",
       "    <tr>\n",
       "      <th>249309</th>\n",
       "      <td>19</td>\n",
       "      <td>1000</td>\n",
       "      <td>1 year of college</td>\n",
       "      <td>not in labor force</td>\n",
       "    </tr>\n",
       "    <tr>\n",
       "      <th>151824</th>\n",
       "      <td>32</td>\n",
       "      <td>3000</td>\n",
       "      <td>1 year of college</td>\n",
       "      <td>not in labor force</td>\n",
       "    </tr>\n",
       "    <tr>\n",
       "      <th>182421</th>\n",
       "      <td>46</td>\n",
       "      <td>26000</td>\n",
       "      <td>2 years of college</td>\n",
       "      <td>not in labor force</td>\n",
       "    </tr>\n",
       "    <tr>\n",
       "      <th>139010</th>\n",
       "      <td>4</td>\n",
       "      <td>9999999</td>\n",
       "      <td>nursery school to grade 4</td>\n",
       "      <td>n/a</td>\n",
       "    </tr>\n",
       "    <tr>\n",
       "      <th>212119</th>\n",
       "      <td>57</td>\n",
       "      <td>8000</td>\n",
       "      <td>grade 12</td>\n",
       "      <td>employed</td>\n",
       "    </tr>\n",
       "    <tr>\n",
       "      <th>256573</th>\n",
       "      <td>62</td>\n",
       "      <td>38400</td>\n",
       "      <td>2 years of college</td>\n",
       "      <td>employed</td>\n",
       "    </tr>\n",
       "    <tr>\n",
       "      <th>56369</th>\n",
       "      <td>69</td>\n",
       "      <td>21300</td>\n",
       "      <td>grade 11</td>\n",
       "      <td>not in labor force</td>\n",
       "    </tr>\n",
       "    <tr>\n",
       "      <th>88641</th>\n",
       "      <td>49</td>\n",
       "      <td>135000</td>\n",
       "      <td>4 years of college</td>\n",
       "      <td>employed</td>\n",
       "    </tr>\n",
       "    <tr>\n",
       "      <th>171</th>\n",
       "      <td>60</td>\n",
       "      <td>329000</td>\n",
       "      <td>5+ years of college</td>\n",
       "      <td>not in labor force</td>\n",
       "    </tr>\n",
       "    <tr>\n",
       "      <th>263995</th>\n",
       "      <td>60</td>\n",
       "      <td>33600</td>\n",
       "      <td>grade 12</td>\n",
       "      <td>not in labor force</td>\n",
       "    </tr>\n",
       "    <tr>\n",
       "      <th>294937</th>\n",
       "      <td>60</td>\n",
       "      <td>42500</td>\n",
       "      <td>grade 12</td>\n",
       "      <td>employed</td>\n",
       "    </tr>\n",
       "    <tr>\n",
       "      <th>227961</th>\n",
       "      <td>33</td>\n",
       "      <td>0</td>\n",
       "      <td>grade 12</td>\n",
       "      <td>not in labor force</td>\n",
       "    </tr>\n",
       "    <tr>\n",
       "      <th>17445</th>\n",
       "      <td>28</td>\n",
       "      <td>240</td>\n",
       "      <td>4 years of college</td>\n",
       "      <td>not in labor force</td>\n",
       "    </tr>\n",
       "    <tr>\n",
       "      <th>56328</th>\n",
       "      <td>31</td>\n",
       "      <td>80000</td>\n",
       "      <td>4 years of college</td>\n",
       "      <td>employed</td>\n",
       "    </tr>\n",
       "    <tr>\n",
       "      <th>187451</th>\n",
       "      <td>47</td>\n",
       "      <td>17000</td>\n",
       "      <td>grade 12</td>\n",
       "      <td>employed</td>\n",
       "    </tr>\n",
       "  </tbody>\n",
       "</table>\n",
       "</div>"
      ],
      "text/plain": [
       "       age   inctot                       educ             empstat\n",
       "115323  57    12000                   grade 12            employed\n",
       "282217  48     9500                   grade 12          unemployed\n",
       "64923   44    86000         4 years of college            employed\n",
       "15175    8  9999999  nursery school to grade 4                 n/a\n",
       "275216  93    44840                   grade 12  not in labor force\n",
       "249309  19     1000          1 year of college  not in labor force\n",
       "151824  32     3000          1 year of college  not in labor force\n",
       "182421  46    26000         2 years of college  not in labor force\n",
       "139010   4  9999999  nursery school to grade 4                 n/a\n",
       "212119  57     8000                   grade 12            employed\n",
       "256573  62    38400         2 years of college            employed\n",
       "56369   69    21300                   grade 11  not in labor force\n",
       "88641   49   135000         4 years of college            employed\n",
       "171     60   329000        5+ years of college  not in labor force\n",
       "263995  60    33600                   grade 12  not in labor force\n",
       "294937  60    42500                   grade 12            employed\n",
       "227961  33        0                   grade 12  not in labor force\n",
       "17445   28      240         4 years of college  not in labor force\n",
       "56328   31    80000         4 years of college            employed\n",
       "187451  47    17000                   grade 12            employed"
      ]
     },
     "execution_count": 7,
     "metadata": {},
     "output_type": "execute_result"
    }
   ],
   "source": [
    "acs_data_sub.sample(20)"
   ]
  },
  {
   "cell_type": "markdown",
   "metadata": {},
   "source": [
    "### Exercise 7\n",
    "\n",
    "Do you see any immediate problems? What issues do you see? (Please do answer in markdown)"
   ]
  },
  {
   "cell_type": "markdown",
   "metadata": {},
   "source": [
    "I see 9999999 which doesn't look like a valid income having n/a employment status."
   ]
  },
  {
   "cell_type": "markdown",
   "metadata": {},
   "source": [
    "### Exercise 8 \n",
    "\n",
    "One problem is that many people seem to have incomes of $9,999,999. Moreover, people with those incomes seem to be very young children. \n",
    "\n",
    "What you are seeing is one method (a relatively old one) for representing missing data. In this case, the value 9999999 is being used as a **sentinel value** — a way to denote missing data that was used back in the day when there was no way to add a special data type for mossing data. In this case, it identifies observations where the person is too young to work, so their income value is missing. \n",
    "\n",
    "So let's begin by dropping anyone who has `inctot` equal to 9999999.\n",
    "\n",
    "After dropping, how many observations do you have? Save your answer in your `results` dictionary under the key `\"ex8_updated_num_obs\"`"
   ]
  },
  {
   "cell_type": "code",
   "execution_count": 8,
   "metadata": {},
   "outputs": [
    {
     "name": "stdout",
     "output_type": "stream",
     "text": [
      "The number of observations after dropping the sentinel values is 265,103\n"
     ]
    }
   ],
   "source": [
    "acs_data_sentinel_dropped = acs_data_sub[acs_data_sub[\"inctot\"] != 9999999]\n",
    "ex8_updated_num_obs = len(acs_data_sentinel_dropped)\n",
    "results[\"ex8_updated_num_obs\"] = ex8_updated_num_obs\n",
    "print(\n",
    "    f\"The number of observations after dropping the sentinel values is {ex8_updated_num_obs:,}\"\n",
    ")"
   ]
  },
  {
   "cell_type": "markdown",
   "metadata": {},
   "source": [
    "### Exercise 9\n",
    "\n",
    "OK, the other potential problem is that our data includes lots of people who are unemployed and people who are not in the labor force (this means they not only don't have a job, but also aren't looking for a job). For this analysis, we want to focus on the wages of people who are currently employed. So subset the dataset for the people for whom `empstat` is equal to \"employed\". \n",
    "\n",
    "Note that our decision to only look at people who are employed impacts how we should interpret the relationship we estimate between education and income. Because we are only looking at employed people, we will be estimating the relationship between education and income *for people who are employed*. That means that if education affects the *likelihood* someone is employed, we won't capture that in this analysis.\n",
    "\n",
    "(You might also want to run `.sample()` after this just to make sure you were successful in your subsetting).\n",
    "\n",
    "After this subsetting, how many observations do you have? Save your answer in your `results` dictionary under the key `\"ex9_updated_num_obs\"`"
   ]
  },
  {
   "cell_type": "code",
   "execution_count": 9,
   "metadata": {},
   "outputs": [
    {
     "data": {
      "text/html": [
       "<div>\n",
       "<style scoped>\n",
       "    .dataframe tbody tr th:only-of-type {\n",
       "        vertical-align: middle;\n",
       "    }\n",
       "\n",
       "    .dataframe tbody tr th {\n",
       "        vertical-align: top;\n",
       "    }\n",
       "\n",
       "    .dataframe thead th {\n",
       "        text-align: right;\n",
       "    }\n",
       "</style>\n",
       "<table border=\"1\" class=\"dataframe\">\n",
       "  <thead>\n",
       "    <tr style=\"text-align: right;\">\n",
       "      <th></th>\n",
       "      <th>age</th>\n",
       "      <th>inctot</th>\n",
       "      <th>educ</th>\n",
       "      <th>empstat</th>\n",
       "    </tr>\n",
       "  </thead>\n",
       "  <tbody>\n",
       "    <tr>\n",
       "      <th>239566</th>\n",
       "      <td>54</td>\n",
       "      <td>30000</td>\n",
       "      <td>2 years of college</td>\n",
       "      <td>employed</td>\n",
       "    </tr>\n",
       "    <tr>\n",
       "      <th>136114</th>\n",
       "      <td>48</td>\n",
       "      <td>65000</td>\n",
       "      <td>2 years of college</td>\n",
       "      <td>employed</td>\n",
       "    </tr>\n",
       "    <tr>\n",
       "      <th>272547</th>\n",
       "      <td>21</td>\n",
       "      <td>11300</td>\n",
       "      <td>1 year of college</td>\n",
       "      <td>employed</td>\n",
       "    </tr>\n",
       "    <tr>\n",
       "      <th>41108</th>\n",
       "      <td>52</td>\n",
       "      <td>34000</td>\n",
       "      <td>4 years of college</td>\n",
       "      <td>employed</td>\n",
       "    </tr>\n",
       "    <tr>\n",
       "      <th>156478</th>\n",
       "      <td>45</td>\n",
       "      <td>150000</td>\n",
       "      <td>5+ years of college</td>\n",
       "      <td>employed</td>\n",
       "    </tr>\n",
       "    <tr>\n",
       "      <th>306000</th>\n",
       "      <td>34</td>\n",
       "      <td>26400</td>\n",
       "      <td>grade 12</td>\n",
       "      <td>employed</td>\n",
       "    </tr>\n",
       "    <tr>\n",
       "      <th>117532</th>\n",
       "      <td>33</td>\n",
       "      <td>11000</td>\n",
       "      <td>4 years of college</td>\n",
       "      <td>employed</td>\n",
       "    </tr>\n",
       "    <tr>\n",
       "      <th>313608</th>\n",
       "      <td>27</td>\n",
       "      <td>25000</td>\n",
       "      <td>2 years of college</td>\n",
       "      <td>employed</td>\n",
       "    </tr>\n",
       "    <tr>\n",
       "      <th>252016</th>\n",
       "      <td>64</td>\n",
       "      <td>87000</td>\n",
       "      <td>4 years of college</td>\n",
       "      <td>employed</td>\n",
       "    </tr>\n",
       "    <tr>\n",
       "      <th>91278</th>\n",
       "      <td>32</td>\n",
       "      <td>11440</td>\n",
       "      <td>4 years of college</td>\n",
       "      <td>employed</td>\n",
       "    </tr>\n",
       "    <tr>\n",
       "      <th>99398</th>\n",
       "      <td>38</td>\n",
       "      <td>6000</td>\n",
       "      <td>5+ years of college</td>\n",
       "      <td>employed</td>\n",
       "    </tr>\n",
       "    <tr>\n",
       "      <th>181189</th>\n",
       "      <td>41</td>\n",
       "      <td>12900</td>\n",
       "      <td>grade 12</td>\n",
       "      <td>employed</td>\n",
       "    </tr>\n",
       "    <tr>\n",
       "      <th>215090</th>\n",
       "      <td>54</td>\n",
       "      <td>60000</td>\n",
       "      <td>1 year of college</td>\n",
       "      <td>employed</td>\n",
       "    </tr>\n",
       "    <tr>\n",
       "      <th>98929</th>\n",
       "      <td>63</td>\n",
       "      <td>82000</td>\n",
       "      <td>5+ years of college</td>\n",
       "      <td>employed</td>\n",
       "    </tr>\n",
       "    <tr>\n",
       "      <th>217058</th>\n",
       "      <td>30</td>\n",
       "      <td>26000</td>\n",
       "      <td>grade 12</td>\n",
       "      <td>employed</td>\n",
       "    </tr>\n",
       "    <tr>\n",
       "      <th>48828</th>\n",
       "      <td>23</td>\n",
       "      <td>16000</td>\n",
       "      <td>grade 10</td>\n",
       "      <td>employed</td>\n",
       "    </tr>\n",
       "    <tr>\n",
       "      <th>101826</th>\n",
       "      <td>62</td>\n",
       "      <td>79700</td>\n",
       "      <td>2 years of college</td>\n",
       "      <td>employed</td>\n",
       "    </tr>\n",
       "    <tr>\n",
       "      <th>314837</th>\n",
       "      <td>33</td>\n",
       "      <td>92000</td>\n",
       "      <td>5+ years of college</td>\n",
       "      <td>employed</td>\n",
       "    </tr>\n",
       "    <tr>\n",
       "      <th>176054</th>\n",
       "      <td>49</td>\n",
       "      <td>2000</td>\n",
       "      <td>grade 12</td>\n",
       "      <td>employed</td>\n",
       "    </tr>\n",
       "    <tr>\n",
       "      <th>132262</th>\n",
       "      <td>23</td>\n",
       "      <td>22000</td>\n",
       "      <td>1 year of college</td>\n",
       "      <td>employed</td>\n",
       "    </tr>\n",
       "  </tbody>\n",
       "</table>\n",
       "</div>"
      ],
      "text/plain": [
       "       age  inctot                 educ   empstat\n",
       "239566  54   30000   2 years of college  employed\n",
       "136114  48   65000   2 years of college  employed\n",
       "272547  21   11300    1 year of college  employed\n",
       "41108   52   34000   4 years of college  employed\n",
       "156478  45  150000  5+ years of college  employed\n",
       "306000  34   26400             grade 12  employed\n",
       "117532  33   11000   4 years of college  employed\n",
       "313608  27   25000   2 years of college  employed\n",
       "252016  64   87000   4 years of college  employed\n",
       "91278   32   11440   4 years of college  employed\n",
       "99398   38    6000  5+ years of college  employed\n",
       "181189  41   12900             grade 12  employed\n",
       "215090  54   60000    1 year of college  employed\n",
       "98929   63   82000  5+ years of college  employed\n",
       "217058  30   26000             grade 12  employed\n",
       "48828   23   16000             grade 10  employed\n",
       "101826  62   79700   2 years of college  employed\n",
       "314837  33   92000  5+ years of college  employed\n",
       "176054  49    2000             grade 12  employed\n",
       "132262  23   22000    1 year of college  employed"
      ]
     },
     "execution_count": 9,
     "metadata": {},
     "output_type": "execute_result"
    }
   ],
   "source": [
    "acs_data_employed = acs_data_sentinel_dropped[\n",
    "    acs_data_sentinel_dropped[\"empstat\"] == \"employed\"\n",
    "]\n",
    "acs_data_employed.sample(20)"
   ]
  },
  {
   "cell_type": "code",
   "execution_count": 10,
   "metadata": {},
   "outputs": [
    {
     "name": "stdout",
     "output_type": "stream",
     "text": [
      "The number of observations after subsetting for only employed status is 148,758\n"
     ]
    }
   ],
   "source": [
    "ex9_updated_num_obs = len(acs_data_employed)\n",
    "results[\"ex9_updated_num_obs\"] = ex9_updated_num_obs\n",
    "print(\n",
    "    f\"The number of observations after subsetting for only employed status is {ex9_updated_num_obs:,}\"\n",
    ")"
   ]
  },
  {
   "cell_type": "markdown",
   "metadata": {},
   "source": [
    "### Exercise 10\n",
    "\n",
    "Now let's turn to education. The `educ` variable seems to have a lot of discrete values. Let's see what values exist, and their distribution, using the `value_counts()` method. This is an *extremely* useful tool you'll use a lot! Try the following code (modified for the name of your dataset, of course):\n",
    "\n",
    "```python\n",
    "acs[\"educ\"].value_counts()\n",
    "```"
   ]
  },
  {
   "cell_type": "code",
   "execution_count": 11,
   "metadata": {},
   "outputs": [
    {
     "data": {
      "text/plain": [
       "educ\n",
       "grade 12                     47815\n",
       "4 years of college           33174\n",
       "1 year of college            22899\n",
       "5+ years of college          20995\n",
       "2 years of college           14077\n",
       "grade 11                      2747\n",
       "grade 5, 6, 7, or 8           2092\n",
       "grade 10                      1910\n",
       "n/a or no schooling           1291\n",
       "grade 9                       1290\n",
       "nursery school to grade 4      468\n",
       "Name: count, dtype: int64"
      ]
     },
     "execution_count": 11,
     "metadata": {},
     "output_type": "execute_result"
    }
   ],
   "source": [
    "acs_data_employed[\"educ\"].value_counts()"
   ]
  },
  {
   "cell_type": "markdown",
   "metadata": {},
   "source": [
    "### Exercise 11\n",
    "\n",
    "There are a lot of values in here, so let's just check a couple. What is the average value of `inctot` for people whose highest grade level is \"grade 12\" (in the US, that is someone who has graduated high school)?\n",
    "\n",
    "Save your answer in your `results` dictionary under the key `\"ex11_grade12_income\"`."
   ]
  },
  {
   "cell_type": "code",
   "execution_count": 12,
   "metadata": {},
   "outputs": [
    {
     "name": "stdout",
     "output_type": "stream",
     "text": [
      "The average income for people whose highest grade level is 'grade 12' is $38,957.76\n"
     ]
    }
   ],
   "source": [
    "acs_data_employed_grade_12 = acs_data_employed[acs_data_employed[\"educ\"] == \"grade 12\"]\n",
    "ex11_grade12_income = acs_data_employed_grade_12[\"inctot\"].mean()\n",
    "results[\"ex11_grade12_income\"] = ex11_grade12_income\n",
    "print(\n",
    "    f\"The average income for people whose highest grade level is 'grade 12' is ${ex11_grade12_income:,.2f}\"\n",
    ")"
   ]
  },
  {
   "cell_type": "markdown",
   "metadata": {},
   "source": [
    "### Exercise 12\n",
    "\n",
    "What is the average income of someone who has completed an undergraduate degree but not done any postgraduate education (\"4 years of college\")? \n",
    "\n",
    "Save your answer in your `results` dictionary under the key `\"ex12_college_income\"`.\n",
    "\n",
    "In percentage terms, how much does an employed college graduate earn as compared to someone who is only a high school graduate? Use the reference category that gives an answer above 100.\n",
    "\n",
    "Store your answer in `\"ex12_college_income_pct\"`. Put your answer in percentage terms (so 100 implies they earn the same amount).\n",
    "\n",
    "*Make sure to interpret your result in words when you print it out!*"
   ]
  },
  {
   "cell_type": "code",
   "execution_count": 13,
   "metadata": {},
   "outputs": [
    {
     "name": "stdout",
     "output_type": "stream",
     "text": [
      "The average income for people who have completed an undergraduate degree but not done any postgraduate education is $75,485.05\n"
     ]
    }
   ],
   "source": [
    "acs_data_employed_4_yrs_college = acs_data_employed[\n",
    "    acs_data_employed[\"educ\"] == \"4 years of college\"\n",
    "]\n",
    "ex12_college_income = acs_data_employed_4_yrs_college[\"inctot\"].mean()\n",
    "results[\"ex12_college_income\"] = ex12_college_income\n",
    "print(\n",
    "    f\"The average income for people who have completed an undergraduate degree but not done any postgraduate education is ${ex12_college_income:,.2f}\"\n",
    ")"
   ]
  },
  {
   "cell_type": "code",
   "execution_count": 14,
   "metadata": {},
   "outputs": [
    {
     "name": "stdout",
     "output_type": "stream",
     "text": [
      "The percentage of income by employed college graduate as compared to someone who is only a high school graduate is 193.76%\n"
     ]
    }
   ],
   "source": [
    "ex12_college_income_pct = (\n",
    "    results[\"ex12_college_income\"] / results[\"ex11_grade12_income\"] * 100\n",
    ")\n",
    "results[\"ex12_college_income_pct\"] = ex12_college_income_pct\n",
    "print(\n",
    "    f\"The percentage of income by employed college graduate as compared to someone who is only a high school graduate is {ex12_college_income_pct:,.2f}%\"\n",
    ")"
   ]
  },
  {
   "cell_type": "markdown",
   "metadata": {},
   "source": [
    "\n",
    "### Exercise 13\n",
    "What does that suggest is the value of getting a college degree after graduating high school?"
   ]
  },
  {
   "cell_type": "markdown",
   "metadata": {},
   "source": [
    "It suggests that with a college education, one can earn almost double what he/she can earn without it, making college education very valuable."
   ]
  },
  {
   "cell_type": "markdown",
   "metadata": {},
   "source": [
    "### Exercise 14\n",
    "\n",
    "What is the average income for someone who has not finished high school? What does that suggest is the value of a high school diploma? (Treat `n/a or no schooling` as having no formal schooling, not as missing).\n",
    "\n",
    "**Hint:** You may find the [.isin()](https://pandas.pydata.org/pandas-docs/stable/reference/api/pandas.DataFrame.isin.html) method to be really helpful here.\n",
    "\n",
    "Save your answer in your `results` dictionary under the key `\"ex14_high_school_dropout\"`."
   ]
  },
  {
   "cell_type": "code",
   "execution_count": 15,
   "metadata": {},
   "outputs": [
    {
     "name": "stdout",
     "output_type": "stream",
     "text": [
      "The average income for people who's hightest eduction is below high school is $26,226.46\n"
     ]
    }
   ],
   "source": [
    "acs_data_employed_school_dropout = acs_data_employed[\n",
    "    acs_data_employed[\"educ\"].isin(\n",
    "        [\n",
    "            \"grade 11\",\n",
    "            \"grade 5, 6, 7, or 8\",\n",
    "            \"grade 10\",\n",
    "            \"n/a or no schooling\",\n",
    "            \"grade 9\",\n",
    "            \"nursery school to grade 4\",\n",
    "        ]\n",
    "    )\n",
    "]\n",
    "ex14_high_school_dropout = acs_data_employed_school_dropout[\"inctot\"].mean()\n",
    "results[\"ex14_high_school_dropout\"] = ex14_high_school_dropout\n",
    "print(\n",
    "    f\"The average income for people who's hightest eduction is below high school is ${ex14_high_school_dropout:,.2f}\"\n",
    ")"
   ]
  },
  {
   "cell_type": "code",
   "execution_count": 16,
   "metadata": {},
   "outputs": [
    {
     "name": "stdout",
     "output_type": "stream",
     "text": [
      "The percentage of income by high school leavers as compared to school dropouts is 148.54%\n"
     ]
    }
   ],
   "source": [
    "percent_income_grade12_dropout = (\n",
    "    results[\"ex11_grade12_income\"] / results[\"ex14_high_school_dropout\"] * 100\n",
    ")\n",
    "print(\n",
    "    f\"The percentage of income by high school leavers as compared to school dropouts is {percent_income_grade12_dropout:,.2f}%\"\n",
    ")"
   ]
  },
  {
   "cell_type": "markdown",
   "metadata": {},
   "source": [
    "The result of 148.54% suggests that high school education is worth approximately 50% more in income than the income when high school is not attained."
   ]
  },
  {
   "cell_type": "markdown",
   "metadata": {},
   "source": [
    "### Exercise 15 \n",
    "\n",
    "Complete the following table (storing values under the provided keys where listed):\n",
    "\n",
    "- Average income for someone who only completed 9th grade (`ex15_grade_9`): _________\n",
    "- Average income for someone who only completed 10th grade (`ex15_grade_10`): _________\n",
    "- Average income for someone who only completed 11th grade (`ex15_grade_11`): _________\n",
    "- Average income for someone who finished high school (12th grade) but never started college (`ex15_grade_12`): _________\n",
    "- Average income for someone who completed 4 year of college (in the US, this corresponds to getting an undergraduate degree), but has no post-graduate education (no more than 4 years, `ex15_4_years_of_college`): _________\n",
    "- Average income for someone who has some graduate education (more than 4 years, `ex15_graduate`): _________"
   ]
  },
  {
   "cell_type": "code",
   "execution_count": 17,
   "metadata": {},
   "outputs": [
    {
     "name": "stdout",
     "output_type": "stream",
     "text": [
      "- Average income for someone who only completed 9th grade: $27,171.91\n",
      "- Average income for someone who only completed 10th grade: $23,018.80\n",
      "- Average income for someone who only completed 11th grade: $21,541.69\n",
      "- Average income for someone who finished high school (12th grade) but never started college: $38,957.76\n",
      "- Average income for someone who completed 4 year of college but has no post-graduate education: $75,485.05\n",
      "- Average income for someone who has some graduate education (more than 4 years): $110,013.22\n"
     ]
    }
   ],
   "source": [
    "results[\"ex15_grade_9\"] = ex15_grade_9 = acs_data_employed[\n",
    "    acs_data_employed[\"educ\"] == \"grade 9\"\n",
    "][\"inctot\"].mean()\n",
    "results[\"ex15_grade_10\"] = ex15_grade_10 = acs_data_employed[\n",
    "    acs_data_employed[\"educ\"] == \"grade 10\"\n",
    "][\"inctot\"].mean()\n",
    "results[\"ex15_grade_11\"] = ex15_grade_11 = acs_data_employed[\n",
    "    acs_data_employed[\"educ\"] == \"grade 11\"\n",
    "][\"inctot\"].mean()\n",
    "results[\"ex15_grade_12\"] = ex15_grade_12 = acs_data_employed[\n",
    "    acs_data_employed[\"educ\"] == \"grade 12\"\n",
    "][\"inctot\"].mean()\n",
    "results[\"ex15_4_years_of_college\"] = ex15_4_years_of_college = acs_data_employed[\n",
    "    acs_data_employed[\"educ\"] == \"4 years of college\"\n",
    "][\"inctot\"].mean()\n",
    "results[\"ex15_graduate\"] = ex15_graduate = acs_data_employed[\n",
    "    acs_data_employed[\"educ\"] == \"5+ years of college\"\n",
    "][\"inctot\"].mean()\n",
    "\n",
    "print(\n",
    "    f\"- Average income for someone who only completed 9th grade: ${ex15_grade_9:,.2f}\"\n",
    ")\n",
    "print(\n",
    "    f\"- Average income for someone who only completed 10th grade: ${ex15_grade_10:,.2f}\"\n",
    ")\n",
    "print(\n",
    "    f\"- Average income for someone who only completed 11th grade: ${ex15_grade_11:,.2f}\"\n",
    ")\n",
    "print(\n",
    "    f\"- Average income for someone who finished high school (12th grade) but never started college: ${ex15_grade_12:,.2f}\"\n",
    ")\n",
    "print(\n",
    "    f\"- Average income for someone who completed 4 year of college but has no post-graduate education: ${ex15_4_years_of_college:,.2f}\"\n",
    ")\n",
    "print(\n",
    "    f\"- Average income for someone who has some graduate education (more than 4 years): ${ex15_graduate:,.2f}\"\n",
    ")"
   ]
  },
  {
   "cell_type": "markdown",
   "metadata": {},
   "source": [
    "### Exercise 16 \n",
    "\n",
    "Why do you think there is no benefit from moving from grade 9 to grade 10, or grade 10 to grade 11, but there is a huge benefit to moving from grade 11 to graduating high school (grade 12)?\n",
    "\n",
    "(Think carefully before reading ahead!)"
   ]
  },
  {
   "cell_type": "markdown",
   "metadata": {},
   "source": [
    "I think this is because incomes brackets are given by educational milestones achieved and high school is the first significant level. If a milestone or level isn't completed, one falls in the lower bracket. There's really no educational income bracket below high school."
   ]
  },
  {
   "cell_type": "code",
   "execution_count": 18,
   "metadata": {},
   "outputs": [],
   "source": [
    "# Testing\n",
    "assert set(results.keys()) == {\n",
    "    \"ex2_num_obs\",\n",
    "    \"ex3_num_vars\",\n",
    "    \"ex8_updated_num_obs\",\n",
    "    \"ex9_updated_num_obs\",\n",
    "    \"ex11_grade12_income\",\n",
    "    \"ex12_college_income\",\n",
    "    \"ex12_college_income_pct\",\n",
    "    \"ex14_high_school_dropout\",\n",
    "    \"ex15_grade_9\",\n",
    "    \"ex15_grade_10\",\n",
    "    \"ex15_grade_11\",\n",
    "    \"ex15_grade_12\",\n",
    "    \"ex15_4_years_of_college\",\n",
    "    \"ex15_graduate\",\n",
    "}"
   ]
  },
  {
   "cell_type": "markdown",
   "metadata": {},
   "source": [
    "## Take-aways\n",
    "\n",
    "Congratulations! You just discovered \"the sheepskin effect!\": people with degrees tend to earn substantially more than people who have *almost* as much education, but don't have an actual degree. \n",
    "\n",
    "In economics, this is viewed as evidence that the reason employers pay people with high school degrees more than those without degree is *not* that they think those who graduated high school have learned specific, useful skills. If that were the case, we would expect employee earnings to rise with every year of high school, since in each year of high school we learn more. \n",
    "\n",
    "Instead, this suggests employees pay high school graduates more because they think *the kind of people* who can finish high school are the *kind of people* who are likely to succeed at their jobs. Finishing high school, in other words, isn't about accumulating specific knowledge; it's about showing that you *are the kind of person* who can rise to the challenge of finishing high school, also suggesting you are also the kind of person who can succeed as an employee. \n",
    "\n",
    "(Obviously, this does not tell us whether that is an *accurate* inference, just that that seems to be how employeers think.) \n",
    "\n",
    "In other words, in the eyes of employers, a high school degree is a *signal* about the kind of person you are, not certification that you've learned a specific set of skills (an idea that earned [Michael Spence](https://en.wikipedia.org/wiki/Michael_Spence) a Nobel Prize in Economics). "
   ]
  }
 ],
 "metadata": {
  "kernelspec": {
   "display_name": "Python 3.10.2 ('ds')",
   "language": "python",
   "name": "python3"
  },
  "language_info": {
   "codemirror_mode": {
    "name": "ipython",
    "version": 3
   },
   "file_extension": ".py",
   "mimetype": "text/x-python",
   "name": "python",
   "nbconvert_exporter": "python",
   "pygments_lexer": "ipython3",
   "version": "3.12.2"
  },
  "vscode": {
   "interpreter": {
    "hash": "b9e56a7b23b1fac2eea1a993b805ed5c611aea1439c1f46315b23590ab6d3ba0"
   }
  }
 },
 "nbformat": 4,
 "nbformat_minor": 4
}
